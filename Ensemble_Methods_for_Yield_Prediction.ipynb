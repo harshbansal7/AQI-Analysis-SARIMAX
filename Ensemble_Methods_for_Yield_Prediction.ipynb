{
  "cells": [
    {
      "cell_type": "markdown",
      "metadata": {
        "id": "view-in-github",
        "colab_type": "text"
      },
      "source": [
        "<a href=\"https://colab.research.google.com/github/harshbansal7/AQI-Analysis-SARIMAX/blob/main/Ensemble_Methods_for_Yield_Prediction.ipynb\" target=\"_parent\"><img src=\"https://colab.research.google.com/assets/colab-badge.svg\" alt=\"Open In Colab\"/></a>"
      ]
    },
    {
      "cell_type": "markdown",
      "id": "15ae4d35",
      "metadata": {
        "id": "15ae4d35"
      },
      "source": [
        "## Crop Yield Prediction based on DecisionTreeRegression\n",
        "\n",
        "#### Importing all required libraries and CSV Dataset"
      ]
    },
    {
      "cell_type": "code",
      "execution_count": 12,
      "id": "4b92917e",
      "metadata": {
        "id": "4b92917e",
        "outputId": "d1ddb8c7-928f-4775-cdc9-71574b95c1ef",
        "colab": {
          "base_uri": "https://localhost:8080/"
        }
      },
      "outputs": [
        {
          "output_type": "stream",
          "name": "stdout",
          "text": [
            "<class 'pandas.core.frame.DataFrame'>\n",
            "RangeIndex: 676425 entries, 0 to 676424\n",
            "Data columns (total 10 columns):\n",
            " #   Column            Non-Null Count   Dtype  \n",
            "---  ------            --------------   -----  \n",
            " 0   State             676425 non-null  object \n",
            " 1   District          676425 non-null  object \n",
            " 2   Crop              675458 non-null  object \n",
            " 3   Year              676425 non-null  object \n",
            " 4   Season            676425 non-null  object \n",
            " 5   Area              675458 non-null  float64\n",
            " 6   Area Units        675458 non-null  object \n",
            " 7   Production        665684 non-null  float64\n",
            " 8   Production Units  675458 non-null  object \n",
            " 9   Yield             675458 non-null  float64\n",
            "dtypes: float64(3), object(7)\n",
            "memory usage: 51.6+ MB\n"
          ]
        },
        {
          "output_type": "execute_result",
          "data": {
            "text/plain": [
              "State                   35\n",
              "District               709\n",
              "Crop                    56\n",
              "Year                    23\n",
              "Season                   6\n",
              "Area                 47390\n",
              "Area Units               1\n",
              "Production           67906\n",
              "Production Units         3\n",
              "Yield               193205\n",
              "dtype: int64"
            ]
          },
          "metadata": {},
          "execution_count": 12
        }
      ],
      "source": [
        "import numpy as np\n",
        "import pandas as pd # to make dataframes\n",
        "import matplotlib.pyplot as plt # to visualize data (using plots)\n",
        "import seaborn as sns # also for visualization\n",
        "from sklearn import model_selection\n",
        "from sklearn.model_selection import train_test_split # splitting data into test-train sections\n",
        "from sklearn.tree import DecisionTreeRegressor # the actual Decision Maker\n",
        "from sklearn import metrics # to calculate Accuracy of the Model\n",
        "\n",
        "df = pd.read_csv('https://raw.githubusercontent.com/harshbansal7/profarm-dvh/main/Datasets%20and%20Notebooks/main2.csv') # importing dataset to a dataframe\n",
        "df.info()\n",
        "df.nunique()"
      ]
    },
    {
      "cell_type": "markdown",
      "id": "437197db",
      "metadata": {
        "id": "437197db"
      },
      "source": [
        "#### Cleaning Data \n",
        "\n",
        "1. Removing Rows with any NaN entry.\n",
        "2. Sorting data in Descending Order of Year for better understanding.\n",
        "3. `Production, Production Units, Area, Area Units` colums were dropped.\n"
      ]
    },
    {
      "cell_type": "code",
      "source": [
        "df = df.dropna()"
      ],
      "metadata": {
        "id": "gBNOTyVBXu4a"
      },
      "id": "gBNOTyVBXu4a",
      "execution_count": 13,
      "outputs": []
    },
    {
      "cell_type": "code",
      "source": [
        "df.info()\n",
        "df.nunique()"
      ],
      "metadata": {
        "colab": {
          "base_uri": "https://localhost:8080/"
        },
        "id": "CslWe-0EXw_u",
        "outputId": "119028ba-2e4b-4a9e-cfb7-2b5ee8b4c2e5"
      },
      "id": "CslWe-0EXw_u",
      "execution_count": 14,
      "outputs": [
        {
          "output_type": "stream",
          "name": "stdout",
          "text": [
            "<class 'pandas.core.frame.DataFrame'>\n",
            "Int64Index: 665684 entries, 0 to 675507\n",
            "Data columns (total 10 columns):\n",
            " #   Column            Non-Null Count   Dtype  \n",
            "---  ------            --------------   -----  \n",
            " 0   State             665684 non-null  object \n",
            " 1   District          665684 non-null  object \n",
            " 2   Crop              665684 non-null  object \n",
            " 3   Year              665684 non-null  object \n",
            " 4   Season            665684 non-null  object \n",
            " 5   Area              665684 non-null  float64\n",
            " 6   Area Units        665684 non-null  object \n",
            " 7   Production        665684 non-null  float64\n",
            " 8   Production Units  665684 non-null  object \n",
            " 9   Yield             665684 non-null  float64\n",
            "dtypes: float64(3), object(7)\n",
            "memory usage: 55.9+ MB\n"
          ]
        },
        {
          "output_type": "execute_result",
          "data": {
            "text/plain": [
              "State                   35\n",
              "District               709\n",
              "Crop                    56\n",
              "Year                    23\n",
              "Season                   6\n",
              "Area                 47333\n",
              "Area Units               1\n",
              "Production           67906\n",
              "Production Units         3\n",
              "Yield               193205\n",
              "dtype: int64"
            ]
          },
          "metadata": {},
          "execution_count": 14
        }
      ]
    },
    {
      "cell_type": "code",
      "source": [
        "df['Season'] = pd.Categorical(df['Season'], ordered = True)\n",
        "print (df['Season'].cat.categories)"
      ],
      "metadata": {
        "colab": {
          "base_uri": "https://localhost:8080/"
        },
        "id": "8a3pKrrnYnc4",
        "outputId": "3149d2ee-a7a6-4f34-b3f8-5a2ea04c45c1"
      },
      "id": "8a3pKrrnYnc4",
      "execution_count": 15,
      "outputs": [
        {
          "output_type": "stream",
          "name": "stdout",
          "text": [
            "Index(['Autumn', 'Kharif', 'Rabi', 'Summer', 'Whole Year', 'Winter'], dtype='object')\n"
          ]
        }
      ]
    },
    {
      "cell_type": "code",
      "execution_count": 16,
      "id": "d8e36595",
      "metadata": {
        "id": "d8e36595"
      },
      "outputs": [],
      "source": [
        "df = df.dropna()\n",
        "df = df.sort_values(ascending=False, by='Year') \n",
        "\n",
        "df = df.drop('Area Units', axis=1)\n",
        "df = df.drop('Production', axis=1)\n",
        "df = df.drop('Production Units', axis=1)\n",
        "df = df.drop('Area', axis=1)\n",
        "df = df.drop('Year', axis=1)\n",
        "\n",
        "\n",
        "# df = df[df['Year'].str.split('-').str[0].astype(int) >= 2010]"
      ]
    },
    {
      "cell_type": "markdown",
      "id": "2bd81fc1",
      "metadata": {
        "id": "2bd81fc1"
      },
      "source": [
        "#### More Cleaning and handling String Entries (using Categories)\n",
        "\n",
        "- Season cleaned up to remove disparities. \n",
        "- CSV Saved to have a Light Weight Dataset for quicker processing. \n",
        "- Converting `Year, State, Season, District, Crop` to Categorical Variables for better analysis.\n",
        "- Printing Arrays of Categorical Entries for reference "
      ]
    },
    {
      "cell_type": "code",
      "execution_count": 21,
      "id": "0e4c491e",
      "metadata": {
        "scrolled": true,
        "id": "0e4c491e",
        "outputId": "71cdbba6-0caa-4027-ed75-6b2eef120dd0",
        "colab": {
          "base_uri": "https://localhost:8080/",
          "height": 666
        }
      },
      "outputs": [
        {
          "output_type": "stream",
          "name": "stdout",
          "text": [
            "Int64Index([ 0,  1,  2,  3,  4,  5,  6,  7,  8,  9, 10, 11, 12, 13, 14, 15, 16,\n",
            "            17, 18, 19, 20, 21, 22, 23, 24, 25, 26, 27, 28, 29, 30, 31, 32, 33,\n",
            "            34],\n",
            "           dtype='int64')\n",
            "Int64Index([  0,   1,   2,   3,   4,   5,   6,   7,   8,   9,\n",
            "            ...\n",
            "            699, 700, 701, 702, 703, 704, 705, 706, 707, 708],\n",
            "           dtype='int64', length=709)\n",
            "Int64Index([0, 1, 2, 3, 4, 5], dtype='int64')\n",
            "Int64Index([ 0,  1,  2,  3,  4,  5,  6,  7,  8,  9, 10, 11, 12, 13, 14, 15, 16,\n",
            "            17, 18, 19, 20, 21, 22, 23, 24, 25, 26, 27, 28, 29, 30, 31, 32, 33,\n",
            "            34, 35, 36, 37, 38, 39, 40, 41, 42, 43, 44, 45, 46, 47, 48, 49, 50,\n",
            "            51, 52, 53, 54, 55],\n",
            "           dtype='int64')\n"
          ]
        },
        {
          "output_type": "execute_result",
          "data": {
            "text/plain": [
              "       State District Crop Season      Yield\n",
              "287384    29      325   21      2   0.407208\n",
              "621290    18      544    3      4  35.300000\n",
              "285525    23      173   44      1   0.617691\n",
              "285524    23      708   41      1   2.336540\n",
              "621340    18       29   10      4   1.800008\n",
              "...      ...      ...  ...    ...        ...\n",
              "659314    24      561   53      5   0.261665\n",
              "659313    24      561   53      3   0.571429\n",
              "659312    24      561   53      0   0.311966\n",
              "333429    32      244   45      1   0.777778\n",
              "321343    24       63   53      3   0.357143\n",
              "\n",
              "[665684 rows x 5 columns]"
            ],
            "text/html": [
              "\n",
              "  <div id=\"df-e6bde743-4626-4869-8337-746d1e07fb08\">\n",
              "    <div class=\"colab-df-container\">\n",
              "      <div>\n",
              "<style scoped>\n",
              "    .dataframe tbody tr th:only-of-type {\n",
              "        vertical-align: middle;\n",
              "    }\n",
              "\n",
              "    .dataframe tbody tr th {\n",
              "        vertical-align: top;\n",
              "    }\n",
              "\n",
              "    .dataframe thead th {\n",
              "        text-align: right;\n",
              "    }\n",
              "</style>\n",
              "<table border=\"1\" class=\"dataframe\">\n",
              "  <thead>\n",
              "    <tr style=\"text-align: right;\">\n",
              "      <th></th>\n",
              "      <th>State</th>\n",
              "      <th>District</th>\n",
              "      <th>Crop</th>\n",
              "      <th>Season</th>\n",
              "      <th>Yield</th>\n",
              "    </tr>\n",
              "  </thead>\n",
              "  <tbody>\n",
              "    <tr>\n",
              "      <th>287384</th>\n",
              "      <td>29</td>\n",
              "      <td>325</td>\n",
              "      <td>21</td>\n",
              "      <td>2</td>\n",
              "      <td>0.407208</td>\n",
              "    </tr>\n",
              "    <tr>\n",
              "      <th>621290</th>\n",
              "      <td>18</td>\n",
              "      <td>544</td>\n",
              "      <td>3</td>\n",
              "      <td>4</td>\n",
              "      <td>35.300000</td>\n",
              "    </tr>\n",
              "    <tr>\n",
              "      <th>285525</th>\n",
              "      <td>23</td>\n",
              "      <td>173</td>\n",
              "      <td>44</td>\n",
              "      <td>1</td>\n",
              "      <td>0.617691</td>\n",
              "    </tr>\n",
              "    <tr>\n",
              "      <th>285524</th>\n",
              "      <td>23</td>\n",
              "      <td>708</td>\n",
              "      <td>41</td>\n",
              "      <td>1</td>\n",
              "      <td>2.336540</td>\n",
              "    </tr>\n",
              "    <tr>\n",
              "      <th>621340</th>\n",
              "      <td>18</td>\n",
              "      <td>29</td>\n",
              "      <td>10</td>\n",
              "      <td>4</td>\n",
              "      <td>1.800008</td>\n",
              "    </tr>\n",
              "    <tr>\n",
              "      <th>...</th>\n",
              "      <td>...</td>\n",
              "      <td>...</td>\n",
              "      <td>...</td>\n",
              "      <td>...</td>\n",
              "      <td>...</td>\n",
              "    </tr>\n",
              "    <tr>\n",
              "      <th>659314</th>\n",
              "      <td>24</td>\n",
              "      <td>561</td>\n",
              "      <td>53</td>\n",
              "      <td>5</td>\n",
              "      <td>0.261665</td>\n",
              "    </tr>\n",
              "    <tr>\n",
              "      <th>659313</th>\n",
              "      <td>24</td>\n",
              "      <td>561</td>\n",
              "      <td>53</td>\n",
              "      <td>3</td>\n",
              "      <td>0.571429</td>\n",
              "    </tr>\n",
              "    <tr>\n",
              "      <th>659312</th>\n",
              "      <td>24</td>\n",
              "      <td>561</td>\n",
              "      <td>53</td>\n",
              "      <td>0</td>\n",
              "      <td>0.311966</td>\n",
              "    </tr>\n",
              "    <tr>\n",
              "      <th>333429</th>\n",
              "      <td>32</td>\n",
              "      <td>244</td>\n",
              "      <td>45</td>\n",
              "      <td>1</td>\n",
              "      <td>0.777778</td>\n",
              "    </tr>\n",
              "    <tr>\n",
              "      <th>321343</th>\n",
              "      <td>24</td>\n",
              "      <td>63</td>\n",
              "      <td>53</td>\n",
              "      <td>3</td>\n",
              "      <td>0.357143</td>\n",
              "    </tr>\n",
              "  </tbody>\n",
              "</table>\n",
              "<p>665684 rows × 5 columns</p>\n",
              "</div>\n",
              "      <button class=\"colab-df-convert\" onclick=\"convertToInteractive('df-e6bde743-4626-4869-8337-746d1e07fb08')\"\n",
              "              title=\"Convert this dataframe to an interactive table.\"\n",
              "              style=\"display:none;\">\n",
              "        \n",
              "  <svg xmlns=\"http://www.w3.org/2000/svg\" height=\"24px\"viewBox=\"0 0 24 24\"\n",
              "       width=\"24px\">\n",
              "    <path d=\"M0 0h24v24H0V0z\" fill=\"none\"/>\n",
              "    <path d=\"M18.56 5.44l.94 2.06.94-2.06 2.06-.94-2.06-.94-.94-2.06-.94 2.06-2.06.94zm-11 1L8.5 8.5l.94-2.06 2.06-.94-2.06-.94L8.5 2.5l-.94 2.06-2.06.94zm10 10l.94 2.06.94-2.06 2.06-.94-2.06-.94-.94-2.06-.94 2.06-2.06.94z\"/><path d=\"M17.41 7.96l-1.37-1.37c-.4-.4-.92-.59-1.43-.59-.52 0-1.04.2-1.43.59L10.3 9.45l-7.72 7.72c-.78.78-.78 2.05 0 2.83L4 21.41c.39.39.9.59 1.41.59.51 0 1.02-.2 1.41-.59l7.78-7.78 2.81-2.81c.8-.78.8-2.07 0-2.86zM5.41 20L4 18.59l7.72-7.72 1.47 1.35L5.41 20z\"/>\n",
              "  </svg>\n",
              "      </button>\n",
              "      \n",
              "  <style>\n",
              "    .colab-df-container {\n",
              "      display:flex;\n",
              "      flex-wrap:wrap;\n",
              "      gap: 12px;\n",
              "    }\n",
              "\n",
              "    .colab-df-convert {\n",
              "      background-color: #E8F0FE;\n",
              "      border: none;\n",
              "      border-radius: 50%;\n",
              "      cursor: pointer;\n",
              "      display: none;\n",
              "      fill: #1967D2;\n",
              "      height: 32px;\n",
              "      padding: 0 0 0 0;\n",
              "      width: 32px;\n",
              "    }\n",
              "\n",
              "    .colab-df-convert:hover {\n",
              "      background-color: #E2EBFA;\n",
              "      box-shadow: 0px 1px 2px rgba(60, 64, 67, 0.3), 0px 1px 3px 1px rgba(60, 64, 67, 0.15);\n",
              "      fill: #174EA6;\n",
              "    }\n",
              "\n",
              "    [theme=dark] .colab-df-convert {\n",
              "      background-color: #3B4455;\n",
              "      fill: #D2E3FC;\n",
              "    }\n",
              "\n",
              "    [theme=dark] .colab-df-convert:hover {\n",
              "      background-color: #434B5C;\n",
              "      box-shadow: 0px 1px 3px 1px rgba(0, 0, 0, 0.15);\n",
              "      filter: drop-shadow(0px 1px 2px rgba(0, 0, 0, 0.3));\n",
              "      fill: #FFFFFF;\n",
              "    }\n",
              "  </style>\n",
              "\n",
              "      <script>\n",
              "        const buttonEl =\n",
              "          document.querySelector('#df-e6bde743-4626-4869-8337-746d1e07fb08 button.colab-df-convert');\n",
              "        buttonEl.style.display =\n",
              "          google.colab.kernel.accessAllowed ? 'block' : 'none';\n",
              "\n",
              "        async function convertToInteractive(key) {\n",
              "          const element = document.querySelector('#df-e6bde743-4626-4869-8337-746d1e07fb08');\n",
              "          const dataTable =\n",
              "            await google.colab.kernel.invokeFunction('convertToInteractive',\n",
              "                                                     [key], {});\n",
              "          if (!dataTable) return;\n",
              "\n",
              "          const docLinkHtml = 'Like what you see? Visit the ' +\n",
              "            '<a target=\"_blank\" href=https://colab.research.google.com/notebooks/data_table.ipynb>data table notebook</a>'\n",
              "            + ' to learn more about interactive tables.';\n",
              "          element.innerHTML = '';\n",
              "          dataTable['output_type'] = 'display_data';\n",
              "          await google.colab.output.renderOutput(dataTable, element);\n",
              "          const docLink = document.createElement('div');\n",
              "          docLink.innerHTML = docLinkHtml;\n",
              "          element.appendChild(docLink);\n",
              "        }\n",
              "      </script>\n",
              "    </div>\n",
              "  </div>\n",
              "  "
            ]
          },
          "metadata": {},
          "execution_count": 21
        }
      ],
      "source": [
        "# df = df.replace({'Season':{'Autumn':'Kharif','Summer':'Zaid','Winter':'Rabi'}})\n",
        "\n",
        "df.to_csv('yield_cleaned_2.csv')\n",
        "\n",
        "# df['Year'] = pd.Categorical(df['Year'], ordered = True)\n",
        "df['State'] = pd.Categorical(df['State'], ordered = True)\n",
        "df['District'] = pd.Categorical(df['District'], ordered = True)\n",
        "df['Season'] = pd.Categorical(df['Season'], ordered = True)\n",
        "df['Crop'] = pd.Categorical(df['Crop'], ordered = True)\n",
        "\n",
        "# print (df['Year'].cat.categories)\n",
        "print (df['State'].cat.categories)\n",
        "print (df['District'].cat.categories)\n",
        "print (df['Season'].cat.categories)\n",
        "print (df['Crop'].cat.categories)\n",
        "\n",
        "df"
      ]
    },
    {
      "cell_type": "markdown",
      "id": "8fab4d5a",
      "metadata": {
        "id": "8fab4d5a"
      },
      "source": [
        "#### Converting Categorical Columns to Integer Codes"
      ]
    },
    {
      "cell_type": "code",
      "execution_count": 22,
      "id": "4362afa7",
      "metadata": {
        "id": "4362afa7",
        "outputId": "96be2224-95c7-4def-aa9c-1c7fa01600e1",
        "colab": {
          "base_uri": "https://localhost:8080/",
          "height": 423
        }
      },
      "outputs": [
        {
          "output_type": "execute_result",
          "data": {
            "text/plain": [
              "        State  District  Crop  Season      Yield\n",
              "287384     29       325    21       2   0.407208\n",
              "621290     18       544     3       4  35.300000\n",
              "285525     23       173    44       1   0.617691\n",
              "285524     23       708    41       1   2.336540\n",
              "621340     18        29    10       4   1.800008\n",
              "...       ...       ...   ...     ...        ...\n",
              "659314     24       561    53       5   0.261665\n",
              "659313     24       561    53       3   0.571429\n",
              "659312     24       561    53       0   0.311966\n",
              "333429     32       244    45       1   0.777778\n",
              "321343     24        63    53       3   0.357143\n",
              "\n",
              "[665684 rows x 5 columns]"
            ],
            "text/html": [
              "\n",
              "  <div id=\"df-8b7c2dc2-b989-4254-9eb5-c1dbf7ea0bf1\">\n",
              "    <div class=\"colab-df-container\">\n",
              "      <div>\n",
              "<style scoped>\n",
              "    .dataframe tbody tr th:only-of-type {\n",
              "        vertical-align: middle;\n",
              "    }\n",
              "\n",
              "    .dataframe tbody tr th {\n",
              "        vertical-align: top;\n",
              "    }\n",
              "\n",
              "    .dataframe thead th {\n",
              "        text-align: right;\n",
              "    }\n",
              "</style>\n",
              "<table border=\"1\" class=\"dataframe\">\n",
              "  <thead>\n",
              "    <tr style=\"text-align: right;\">\n",
              "      <th></th>\n",
              "      <th>State</th>\n",
              "      <th>District</th>\n",
              "      <th>Crop</th>\n",
              "      <th>Season</th>\n",
              "      <th>Yield</th>\n",
              "    </tr>\n",
              "  </thead>\n",
              "  <tbody>\n",
              "    <tr>\n",
              "      <th>287384</th>\n",
              "      <td>29</td>\n",
              "      <td>325</td>\n",
              "      <td>21</td>\n",
              "      <td>2</td>\n",
              "      <td>0.407208</td>\n",
              "    </tr>\n",
              "    <tr>\n",
              "      <th>621290</th>\n",
              "      <td>18</td>\n",
              "      <td>544</td>\n",
              "      <td>3</td>\n",
              "      <td>4</td>\n",
              "      <td>35.300000</td>\n",
              "    </tr>\n",
              "    <tr>\n",
              "      <th>285525</th>\n",
              "      <td>23</td>\n",
              "      <td>173</td>\n",
              "      <td>44</td>\n",
              "      <td>1</td>\n",
              "      <td>0.617691</td>\n",
              "    </tr>\n",
              "    <tr>\n",
              "      <th>285524</th>\n",
              "      <td>23</td>\n",
              "      <td>708</td>\n",
              "      <td>41</td>\n",
              "      <td>1</td>\n",
              "      <td>2.336540</td>\n",
              "    </tr>\n",
              "    <tr>\n",
              "      <th>621340</th>\n",
              "      <td>18</td>\n",
              "      <td>29</td>\n",
              "      <td>10</td>\n",
              "      <td>4</td>\n",
              "      <td>1.800008</td>\n",
              "    </tr>\n",
              "    <tr>\n",
              "      <th>...</th>\n",
              "      <td>...</td>\n",
              "      <td>...</td>\n",
              "      <td>...</td>\n",
              "      <td>...</td>\n",
              "      <td>...</td>\n",
              "    </tr>\n",
              "    <tr>\n",
              "      <th>659314</th>\n",
              "      <td>24</td>\n",
              "      <td>561</td>\n",
              "      <td>53</td>\n",
              "      <td>5</td>\n",
              "      <td>0.261665</td>\n",
              "    </tr>\n",
              "    <tr>\n",
              "      <th>659313</th>\n",
              "      <td>24</td>\n",
              "      <td>561</td>\n",
              "      <td>53</td>\n",
              "      <td>3</td>\n",
              "      <td>0.571429</td>\n",
              "    </tr>\n",
              "    <tr>\n",
              "      <th>659312</th>\n",
              "      <td>24</td>\n",
              "      <td>561</td>\n",
              "      <td>53</td>\n",
              "      <td>0</td>\n",
              "      <td>0.311966</td>\n",
              "    </tr>\n",
              "    <tr>\n",
              "      <th>333429</th>\n",
              "      <td>32</td>\n",
              "      <td>244</td>\n",
              "      <td>45</td>\n",
              "      <td>1</td>\n",
              "      <td>0.777778</td>\n",
              "    </tr>\n",
              "    <tr>\n",
              "      <th>321343</th>\n",
              "      <td>24</td>\n",
              "      <td>63</td>\n",
              "      <td>53</td>\n",
              "      <td>3</td>\n",
              "      <td>0.357143</td>\n",
              "    </tr>\n",
              "  </tbody>\n",
              "</table>\n",
              "<p>665684 rows × 5 columns</p>\n",
              "</div>\n",
              "      <button class=\"colab-df-convert\" onclick=\"convertToInteractive('df-8b7c2dc2-b989-4254-9eb5-c1dbf7ea0bf1')\"\n",
              "              title=\"Convert this dataframe to an interactive table.\"\n",
              "              style=\"display:none;\">\n",
              "        \n",
              "  <svg xmlns=\"http://www.w3.org/2000/svg\" height=\"24px\"viewBox=\"0 0 24 24\"\n",
              "       width=\"24px\">\n",
              "    <path d=\"M0 0h24v24H0V0z\" fill=\"none\"/>\n",
              "    <path d=\"M18.56 5.44l.94 2.06.94-2.06 2.06-.94-2.06-.94-.94-2.06-.94 2.06-2.06.94zm-11 1L8.5 8.5l.94-2.06 2.06-.94-2.06-.94L8.5 2.5l-.94 2.06-2.06.94zm10 10l.94 2.06.94-2.06 2.06-.94-2.06-.94-.94-2.06-.94 2.06-2.06.94z\"/><path d=\"M17.41 7.96l-1.37-1.37c-.4-.4-.92-.59-1.43-.59-.52 0-1.04.2-1.43.59L10.3 9.45l-7.72 7.72c-.78.78-.78 2.05 0 2.83L4 21.41c.39.39.9.59 1.41.59.51 0 1.02-.2 1.41-.59l7.78-7.78 2.81-2.81c.8-.78.8-2.07 0-2.86zM5.41 20L4 18.59l7.72-7.72 1.47 1.35L5.41 20z\"/>\n",
              "  </svg>\n",
              "      </button>\n",
              "      \n",
              "  <style>\n",
              "    .colab-df-container {\n",
              "      display:flex;\n",
              "      flex-wrap:wrap;\n",
              "      gap: 12px;\n",
              "    }\n",
              "\n",
              "    .colab-df-convert {\n",
              "      background-color: #E8F0FE;\n",
              "      border: none;\n",
              "      border-radius: 50%;\n",
              "      cursor: pointer;\n",
              "      display: none;\n",
              "      fill: #1967D2;\n",
              "      height: 32px;\n",
              "      padding: 0 0 0 0;\n",
              "      width: 32px;\n",
              "    }\n",
              "\n",
              "    .colab-df-convert:hover {\n",
              "      background-color: #E2EBFA;\n",
              "      box-shadow: 0px 1px 2px rgba(60, 64, 67, 0.3), 0px 1px 3px 1px rgba(60, 64, 67, 0.15);\n",
              "      fill: #174EA6;\n",
              "    }\n",
              "\n",
              "    [theme=dark] .colab-df-convert {\n",
              "      background-color: #3B4455;\n",
              "      fill: #D2E3FC;\n",
              "    }\n",
              "\n",
              "    [theme=dark] .colab-df-convert:hover {\n",
              "      background-color: #434B5C;\n",
              "      box-shadow: 0px 1px 3px 1px rgba(0, 0, 0, 0.15);\n",
              "      filter: drop-shadow(0px 1px 2px rgba(0, 0, 0, 0.3));\n",
              "      fill: #FFFFFF;\n",
              "    }\n",
              "  </style>\n",
              "\n",
              "      <script>\n",
              "        const buttonEl =\n",
              "          document.querySelector('#df-8b7c2dc2-b989-4254-9eb5-c1dbf7ea0bf1 button.colab-df-convert');\n",
              "        buttonEl.style.display =\n",
              "          google.colab.kernel.accessAllowed ? 'block' : 'none';\n",
              "\n",
              "        async function convertToInteractive(key) {\n",
              "          const element = document.querySelector('#df-8b7c2dc2-b989-4254-9eb5-c1dbf7ea0bf1');\n",
              "          const dataTable =\n",
              "            await google.colab.kernel.invokeFunction('convertToInteractive',\n",
              "                                                     [key], {});\n",
              "          if (!dataTable) return;\n",
              "\n",
              "          const docLinkHtml = 'Like what you see? Visit the ' +\n",
              "            '<a target=\"_blank\" href=https://colab.research.google.com/notebooks/data_table.ipynb>data table notebook</a>'\n",
              "            + ' to learn more about interactive tables.';\n",
              "          element.innerHTML = '';\n",
              "          dataTable['output_type'] = 'display_data';\n",
              "          await google.colab.output.renderOutput(dataTable, element);\n",
              "          const docLink = document.createElement('div');\n",
              "          docLink.innerHTML = docLinkHtml;\n",
              "          element.appendChild(docLink);\n",
              "        }\n",
              "      </script>\n",
              "    </div>\n",
              "  </div>\n",
              "  "
            ]
          },
          "metadata": {},
          "execution_count": 22
        }
      ],
      "source": [
        "cat_columns = df.select_dtypes(['category']).columns\n",
        "df[cat_columns] = df[cat_columns].apply(lambda x: x.cat.codes)\n",
        "\n",
        "df.to_csv('yield_processing_1.csv')\n",
        "\n",
        "df"
      ]
    },
    {
      "cell_type": "code",
      "source": [
        "df.nunique()\n",
        "df.info()"
      ],
      "metadata": {
        "colab": {
          "base_uri": "https://localhost:8080/"
        },
        "id": "sw5kkVrIVfpx",
        "outputId": "952da062-5e67-4144-c17f-f59375cb533c"
      },
      "id": "sw5kkVrIVfpx",
      "execution_count": 23,
      "outputs": [
        {
          "output_type": "stream",
          "name": "stdout",
          "text": [
            "<class 'pandas.core.frame.DataFrame'>\n",
            "Int64Index: 665684 entries, 287384 to 321343\n",
            "Data columns (total 5 columns):\n",
            " #   Column    Non-Null Count   Dtype  \n",
            "---  ------    --------------   -----  \n",
            " 0   State     665684 non-null  int8   \n",
            " 1   District  665684 non-null  int16  \n",
            " 2   Crop      665684 non-null  int8   \n",
            " 3   Season    665684 non-null  int8   \n",
            " 4   Yield     665684 non-null  float64\n",
            "dtypes: float64(1), int16(1), int8(3)\n",
            "memory usage: 13.3 MB\n"
          ]
        }
      ]
    },
    {
      "cell_type": "markdown",
      "id": "d767f744",
      "metadata": {
        "id": "d767f744"
      },
      "source": [
        "#### Finally Dividing the Data into Two parts and doing the ML part"
      ]
    },
    {
      "cell_type": "code",
      "source": [
        "from sklearn.metrics import mean_absolute_error, mean_squared_error, r2_score\n",
        "\n",
        "def scores_print(name_of_regr, regr, x_test, y_test):\n",
        "  y_pred = regr.predict(x_test)\n",
        "  mae = mean_absolute_error(y_test, y_pred)\n",
        "  mse = mean_squared_error(y_test,y_pred)\n",
        "  r2 = r2_score(y_test,y_pred)\n",
        "  print(name_of_regr + \" MAE : {:.3f} | MSE : {:.3f} | R^2 Score : {:.5f}\".format(mae, mse, r2))"
      ],
      "metadata": {
        "id": "DQZA2aLmM7TA"
      },
      "id": "DQZA2aLmM7TA",
      "execution_count": 24,
      "outputs": []
    },
    {
      "cell_type": "code",
      "execution_count": 25,
      "id": "5f645e4e",
      "metadata": {
        "id": "5f645e4e",
        "outputId": "d0ca30e5-42d0-4e91-bb98-1414e42f944d",
        "colab": {
          "base_uri": "https://localhost:8080/"
        }
      },
      "outputs": [
        {
          "output_type": "execute_result",
          "data": {
            "text/plain": [
              "DecisionTreeRegressor(random_state=42)"
            ]
          },
          "metadata": {},
          "execution_count": 25
        }
      ],
      "source": [
        "X = df.drop(columns=['Yield'], axis=1)\n",
        "Y = df['Yield']\n",
        "X_train, X_test, Y_train, Y_test = train_test_split(X, Y, test_size = .20, random_state=42)\n",
        "    \n",
        "regr = DecisionTreeRegressor(random_state = 42) # Do not use fit_intercept = False if you have removed 1 column after dummy encoding\n",
        "regr.fit(X_train, Y_train)"
      ]
    },
    {
      "cell_type": "code",
      "source": [
        "len(X_test)"
      ],
      "metadata": {
        "colab": {
          "base_uri": "https://localhost:8080/"
        },
        "id": "6mH0CStykm3j",
        "outputId": "6cd686d2-6cc3-4d2f-91da-f91c6733c763"
      },
      "id": "6mH0CStykm3j",
      "execution_count": 49,
      "outputs": [
        {
          "output_type": "execute_result",
          "data": {
            "text/plain": [
              "133137"
            ]
          },
          "metadata": {},
          "execution_count": 49
        }
      ]
    },
    {
      "cell_type": "code",
      "source": [
        "scores_print('Decision Tree Regressor', regr, X_test, Y_test)"
      ],
      "metadata": {
        "colab": {
          "base_uri": "https://localhost:8080/"
        },
        "id": "5OI8iX3gNuCd",
        "outputId": "e2276725-a3f7-4fef-bdf7-d7f8e4f15171"
      },
      "id": "5OI8iX3gNuCd",
      "execution_count": 26,
      "outputs": [
        {
          "output_type": "stream",
          "name": "stdout",
          "text": [
            "Decision Tree Regressor MAE : 21.019 | MSE : 91545.259 | R^2 Score : 0.89335\n"
          ]
        }
      ]
    },
    {
      "cell_type": "code",
      "source": [
        "from sklearn.ensemble import BaggingRegressor\n",
        "\n",
        "regr2 = BaggingRegressor(n_estimators=10, random_state=42)\n",
        "regr2.fit(X_train, Y_train)"
      ],
      "metadata": {
        "colab": {
          "base_uri": "https://localhost:8080/"
        },
        "id": "xXxAyZYyIUQP",
        "outputId": "bc1ffa40-cce8-416e-cd90-973a7d71797b"
      },
      "id": "xXxAyZYyIUQP",
      "execution_count": 27,
      "outputs": [
        {
          "output_type": "execute_result",
          "data": {
            "text/plain": [
              "BaggingRegressor(random_state=42)"
            ]
          },
          "metadata": {},
          "execution_count": 27
        }
      ]
    },
    {
      "cell_type": "code",
      "source": [
        "scores_print('Bagging Regression DT', regr2, X_test, Y_test)"
      ],
      "metadata": {
        "colab": {
          "base_uri": "https://localhost:8080/"
        },
        "id": "AB-3Btp5PBVi",
        "outputId": "f55d1cee-0f86-4ce9-c61c-be6cd480ac31"
      },
      "id": "AB-3Btp5PBVi",
      "execution_count": 28,
      "outputs": [
        {
          "output_type": "stream",
          "name": "stdout",
          "text": [
            "Bagging Regression DT MAE : 21.135 | MSE : 92380.609 | R^2 Score : 0.89237\n"
          ]
        }
      ]
    },
    {
      "cell_type": "code",
      "source": [
        "from sklearn.linear_model import LinearRegression\n",
        "from sklearn.ensemble import RandomForestRegressor\n",
        "from sklearn.neighbors import KNeighborsRegressor\n",
        "from sklearn.ensemble import VotingRegressor\n",
        "\n",
        "r1 = LinearRegression()\n",
        "r2 = RandomForestRegressor(n_estimators=10, random_state=42)\n",
        "r3 = KNeighborsRegressor()\n",
        "r4 = DecisionTreeRegressor(max_depth = 10)"
      ],
      "metadata": {
        "id": "BjC4vyvEPyEZ"
      },
      "id": "BjC4vyvEPyEZ",
      "execution_count": 29,
      "outputs": []
    },
    {
      "cell_type": "code",
      "source": [
        "er = VotingRegressor([('rf', r2), ('r3', r3), ('dtr', r4)])\n",
        "er.fit(X_train, Y_train)"
      ],
      "metadata": {
        "colab": {
          "base_uri": "https://localhost:8080/"
        },
        "id": "oSMl3HU6P3p2",
        "outputId": "8240b99f-368e-4540-b72e-2705eea2a71b"
      },
      "id": "oSMl3HU6P3p2",
      "execution_count": 30,
      "outputs": [
        {
          "output_type": "execute_result",
          "data": {
            "text/plain": [
              "VotingRegressor(estimators=[('rf',\n",
              "                             RandomForestRegressor(n_estimators=10,\n",
              "                                                   random_state=42)),\n",
              "                            ('r3', KNeighborsRegressor()),\n",
              "                            ('dtr', DecisionTreeRegressor(max_depth=10))])"
            ]
          },
          "metadata": {},
          "execution_count": 30
        }
      ]
    },
    {
      "cell_type": "code",
      "source": [
        "r1.fit(X_train, Y_train)\n",
        "scores_print('LinearRegression', r1, X_test, Y_test)"
      ],
      "metadata": {
        "colab": {
          "base_uri": "https://localhost:8080/"
        },
        "id": "d9dVjSbSRiz5",
        "outputId": "dcf0e1d1-37b5-4385-bdc0-b5dc896e185e"
      },
      "id": "d9dVjSbSRiz5",
      "execution_count": 31,
      "outputs": [
        {
          "output_type": "stream",
          "name": "stdout",
          "text": [
            "LinearRegression MAE : 211.058 | MSE : 831454.738 | R^2 Score : 0.03134\n"
          ]
        }
      ]
    },
    {
      "cell_type": "code",
      "source": [
        "r2.fit(X_train, Y_train)\n",
        "scores_print('RFR', r2, X_test, Y_test)"
      ],
      "metadata": {
        "colab": {
          "base_uri": "https://localhost:8080/"
        },
        "id": "iAsz-luQRWN3",
        "outputId": "256cfd4e-baa9-4efb-b7ef-43c1d32465db"
      },
      "id": "iAsz-luQRWN3",
      "execution_count": 32,
      "outputs": [
        {
          "output_type": "stream",
          "name": "stdout",
          "text": [
            "RFR MAE : 21.122 | MSE : 92332.393 | R^2 Score : 0.89243\n"
          ]
        }
      ]
    },
    {
      "cell_type": "code",
      "source": [
        "r3.fit(X_train, Y_train)\n",
        "scores_print('KNN', r3, X_test, Y_test)"
      ],
      "metadata": {
        "colab": {
          "base_uri": "https://localhost:8080/"
        },
        "id": "QbTriPftRoZy",
        "outputId": "f88a2cd7-f7dc-48d3-e970-13582e612776"
      },
      "id": "QbTriPftRoZy",
      "execution_count": 33,
      "outputs": [
        {
          "output_type": "stream",
          "name": "stdout",
          "text": [
            "KNN MAE : 23.346 | MSE : 109665.893 | R^2 Score : 0.87224\n"
          ]
        }
      ]
    },
    {
      "cell_type": "code",
      "source": [
        "r4.fit(X_train, Y_train)\n",
        "scores_print('DTR', r4, X_test, Y_test)"
      ],
      "metadata": {
        "colab": {
          "base_uri": "https://localhost:8080/"
        },
        "id": "scj_nLWKR86u",
        "outputId": "5ec8a4da-1139-41dd-8d26-9685c96e54e6"
      },
      "id": "scj_nLWKR86u",
      "execution_count": 34,
      "outputs": [
        {
          "output_type": "stream",
          "name": "stdout",
          "text": [
            "DTR MAE : 23.422 | MSE : 105582.813 | R^2 Score : 0.87699\n"
          ]
        }
      ]
    },
    {
      "cell_type": "code",
      "source": [
        "scores_print('Voting Regressor', er, X_test, Y_test)"
      ],
      "metadata": {
        "colab": {
          "base_uri": "https://localhost:8080/"
        },
        "id": "cL8QMYcXQXB1",
        "outputId": "f5a95537-23ec-4b99-a407-cfb8079c27f3"
      },
      "id": "cL8QMYcXQXB1",
      "execution_count": 35,
      "outputs": [
        {
          "output_type": "stream",
          "name": "stdout",
          "text": [
            "Voting Regressor MAE : 21.826 | MSE : 95816.419 | R^2 Score : 0.88837\n"
          ]
        }
      ]
    },
    {
      "cell_type": "code",
      "source": [
        "regr.get_depth()"
      ],
      "metadata": {
        "colab": {
          "base_uri": "https://localhost:8080/"
        },
        "id": "MwW56nLyT8uw",
        "outputId": "4e3103de-6ebf-40a5-a8a7-7a40ada11abc"
      },
      "id": "MwW56nLyT8uw",
      "execution_count": 36,
      "outputs": [
        {
          "output_type": "execute_result",
          "data": {
            "text/plain": [
              "38"
            ]
          },
          "metadata": {},
          "execution_count": 36
        }
      ]
    },
    {
      "cell_type": "code",
      "source": [
        "r5 = DecisionTreeRegressor(max_depth=10)\n",
        "r5.fit(X_train, Y_train)"
      ],
      "metadata": {
        "colab": {
          "base_uri": "https://localhost:8080/"
        },
        "id": "ItXrsjjdUEI1",
        "outputId": "21db0980-1d53-46e6-9327-473bf1e710c6"
      },
      "id": "ItXrsjjdUEI1",
      "execution_count": 37,
      "outputs": [
        {
          "output_type": "execute_result",
          "data": {
            "text/plain": [
              "DecisionTreeRegressor(max_depth=10)"
            ]
          },
          "metadata": {},
          "execution_count": 37
        }
      ]
    },
    {
      "cell_type": "code",
      "source": [
        "scores_print('DT D =10', r5, X_test, Y_test)"
      ],
      "metadata": {
        "colab": {
          "base_uri": "https://localhost:8080/"
        },
        "id": "zEYSm-59To2D",
        "outputId": "30fa38d2-bbbf-4a18-e281-a4f56f822070"
      },
      "id": "zEYSm-59To2D",
      "execution_count": 38,
      "outputs": [
        {
          "output_type": "stream",
          "name": "stdout",
          "text": [
            "DT D =10 MAE : 23.422 | MSE : 105582.813 | R^2 Score : 0.87699\n"
          ]
        }
      ]
    },
    {
      "cell_type": "code",
      "source": [
        "from sklearn.ensemble import AdaBoostRegressor\n",
        "dtr6 = DecisionTreeRegressor(max_depth=10)\n",
        "adaregr = AdaBoostRegressor(base_estimator = dtr6, random_state=42, n_estimators=10)\n",
        "adaregr.fit(X_train, Y_train)"
      ],
      "metadata": {
        "colab": {
          "base_uri": "https://localhost:8080/"
        },
        "id": "bWMWyYcqVFTs",
        "outputId": "c7f40a5e-49f5-43be-d95f-a6e66bd0150f"
      },
      "id": "bWMWyYcqVFTs",
      "execution_count": 39,
      "outputs": [
        {
          "output_type": "execute_result",
          "data": {
            "text/plain": [
              "AdaBoostRegressor(base_estimator=DecisionTreeRegressor(max_depth=10),\n",
              "                  n_estimators=10, random_state=42)"
            ]
          },
          "metadata": {},
          "execution_count": 39
        }
      ]
    },
    {
      "cell_type": "code",
      "source": [
        "scores_print('AdaBoostRegressor', adaregr, X_test, Y_test)"
      ],
      "metadata": {
        "colab": {
          "base_uri": "https://localhost:8080/"
        },
        "id": "ctUCMdOjW0kB",
        "outputId": "07e2b50c-52f4-4766-a435-fedaa34727f0"
      },
      "id": "ctUCMdOjW0kB",
      "execution_count": 40,
      "outputs": [
        {
          "output_type": "stream",
          "name": "stdout",
          "text": [
            "AdaBoostRegressor MAE : 25.461 | MSE : 114980.209 | R^2 Score : 0.86605\n"
          ]
        }
      ]
    },
    {
      "cell_type": "code",
      "source": [
        "from sklearn.ensemble import BaggingRegressor\n",
        "\n",
        "bag_regr = BaggingRegressor(base_estimator = r4, n_estimators=10, random_state=42)\n",
        "bag_regr.fit(X_train, Y_train)"
      ],
      "metadata": {
        "colab": {
          "base_uri": "https://localhost:8080/"
        },
        "id": "cG6EmALCloQW",
        "outputId": "def31c0b-2f99-41dd-e944-200a31c1a36f"
      },
      "id": "cG6EmALCloQW",
      "execution_count": 41,
      "outputs": [
        {
          "output_type": "execute_result",
          "data": {
            "text/plain": [
              "BaggingRegressor(base_estimator=DecisionTreeRegressor(max_depth=10),\n",
              "                 random_state=42)"
            ]
          },
          "metadata": {},
          "execution_count": 41
        }
      ]
    },
    {
      "cell_type": "code",
      "source": [
        "scores_print('Bagging Regressor with DT 10 Depth', bag_regr, X_test, Y_test)"
      ],
      "metadata": {
        "colab": {
          "base_uri": "https://localhost:8080/"
        },
        "id": "Plx8A05ylzls",
        "outputId": "cd626976-23e1-4cf6-a2db-9914e21eec23"
      },
      "id": "Plx8A05ylzls",
      "execution_count": 42,
      "outputs": [
        {
          "output_type": "stream",
          "name": "stdout",
          "text": [
            "Bagging Regressor with DT 10 Depth MAE : 22.621 | MSE : 98947.131 | R^2 Score : 0.88472\n"
          ]
        }
      ]
    },
    {
      "cell_type": "code",
      "source": [
        "from sklearn.ensemble import StackingRegressor\n",
        "\n",
        "estimators = [\n",
        "    ('dtr', r5),\n",
        "    ('bag', bag_regr),\n",
        "    ('adab', adaregr),\n",
        "]\n",
        "sregr = StackingRegressor(estimators, final_estimator=dtr6)\n",
        "sregr.fit(X_train, Y_train)\n"
      ],
      "metadata": {
        "colab": {
          "base_uri": "https://localhost:8080/"
        },
        "id": "mNVvSUnBcFL0",
        "outputId": "f3822db8-b9bd-4420-8844-72baee3f7341"
      },
      "id": "mNVvSUnBcFL0",
      "execution_count": 43,
      "outputs": [
        {
          "output_type": "execute_result",
          "data": {
            "text/plain": [
              "StackingRegressor(estimators=[('dtr', DecisionTreeRegressor(max_depth=10)),\n",
              "                              ('bag',\n",
              "                               BaggingRegressor(base_estimator=DecisionTreeRegressor(max_depth=10),\n",
              "                                                random_state=42)),\n",
              "                              ('adab',\n",
              "                               AdaBoostRegressor(base_estimator=DecisionTreeRegressor(max_depth=10),\n",
              "                                                 n_estimators=10,\n",
              "                                                 random_state=42))],\n",
              "                  final_estimator=DecisionTreeRegressor(max_depth=10))"
            ]
          },
          "metadata": {},
          "execution_count": 43
        }
      ]
    },
    {
      "cell_type": "code",
      "source": [
        "scores_print('Stacking Regressor', sregr, X_test, Y_test)"
      ],
      "metadata": {
        "colab": {
          "base_uri": "https://localhost:8080/"
        },
        "id": "3OvJh6XViqPQ",
        "outputId": "288f4eed-bd98-4861-80f3-8bcff32259a9"
      },
      "id": "3OvJh6XViqPQ",
      "execution_count": 44,
      "outputs": [
        {
          "output_type": "stream",
          "name": "stdout",
          "text": [
            "Stacking Regressor MAE : 23.170 | MSE : 103743.734 | R^2 Score : 0.87914\n"
          ]
        }
      ]
    },
    {
      "cell_type": "code",
      "source": [
        "estimators2 = [\n",
        "    ('bag', bag_regr),\n",
        "    ('adab', adaregr),\n",
        "]\n",
        "dtr7 = DecisionTreeRegressor(max_depth=10)\n",
        "sregr2 = StackingRegressor(estimators2, final_estimator=dtr7)\n",
        "sregr2.fit(X_train, Y_train)"
      ],
      "metadata": {
        "colab": {
          "base_uri": "https://localhost:8080/"
        },
        "id": "hWm0ztUznLnW",
        "outputId": "100d007a-b9c8-4e1d-ee7c-dfcf0a7b5f11"
      },
      "id": "hWm0ztUznLnW",
      "execution_count": 72,
      "outputs": [
        {
          "output_type": "execute_result",
          "data": {
            "text/plain": [
              "StackingRegressor(estimators=[('bag',\n",
              "                               BaggingRegressor(base_estimator=DecisionTreeRegressor(max_depth=10),\n",
              "                                                random_state=42)),\n",
              "                              ('adab',\n",
              "                               AdaBoostRegressor(base_estimator=DecisionTreeRegressor(max_depth=10),\n",
              "                                                 n_estimators=10,\n",
              "                                                 random_state=42))],\n",
              "                  final_estimator=DecisionTreeRegressor(max_depth=10))"
            ]
          },
          "metadata": {},
          "execution_count": 72
        }
      ]
    },
    {
      "cell_type": "code",
      "source": [
        "scores_print('Stacking Regressor without DT Training', sregr2, X_train, Y_train)\n",
        "scores_print('Stacking Regressor without DT', sregr2, X_test, Y_test)"
      ],
      "metadata": {
        "colab": {
          "base_uri": "https://localhost:8080/"
        },
        "id": "QDt_Bo1TnVWe",
        "outputId": "47100b07-785b-4bff-e73b-92211beec8c4"
      },
      "id": "QDt_Bo1TnVWe",
      "execution_count": 73,
      "outputs": [
        {
          "output_type": "stream",
          "name": "stdout",
          "text": [
            "Stacking Regressor without DT Training MAE : 22.008 | MSE : 99960.446 | R^2 Score : 0.88575\n",
            "Stacking Regressor without DT MAE : 23.397 | MSE : 105804.289 | R^2 Score : 0.87674\n"
          ]
        }
      ]
    },
    {
      "cell_type": "code",
      "source": [
        "import matplotlib.pyplot as plt\n",
        "\n",
        "train_scores = []\n",
        "test_scores = []\n",
        "for i in range(20):\n",
        "    rn = DecisionTreeRegressor(max_depth=i+1)\n",
        "    rn.fit(X_train, Y_train)\n",
        "    y_pred = rn.predict(X_test)\n",
        "    y_train_pred = rn.predict(X_train)\n",
        "    r2 = r2_score(Y_test, y_pred)\n",
        "    r2_train = r2_score(Y_train, y_train_pred)\n",
        "    train_scores.append(r2_train)\n",
        "    test_scores.append(r2)\n"
      ],
      "metadata": {
        "id": "A1h7JD3-tLlC"
      },
      "id": "A1h7JD3-tLlC",
      "execution_count": 68,
      "outputs": []
    },
    {
      "cell_type": "code",
      "source": [
        "plt.plot(range(1, 21), train_scores, label='Training R2')\n",
        "plt.plot(range(1, 21), test_scores, label='Testing R2')\n",
        "plt.xlabel('Max Depth')\n",
        "plt.ylabel('R2 Score')\n",
        "plt.legend()\n",
        "plt.xticks(range(1, 21, 1))\n",
        "plt.xlim(3, 20)  # Set y-axis limits\n",
        "plt.ylim(0.85, 0.92)  # Set y-axis limits\n",
        "plt.show()"
      ],
      "metadata": {
        "colab": {
          "base_uri": "https://localhost:8080/",
          "height": 283
        },
        "id": "rkboqxfWvT5J",
        "outputId": "9811814c-12bd-4a16-ad03-047ade1567c6"
      },
      "id": "rkboqxfWvT5J",
      "execution_count": 69,
      "outputs": [
        {
          "output_type": "display_data",
          "data": {
            "text/plain": [
              "<Figure size 432x288 with 1 Axes>"
            ],
            "image/png": "[encoded data removed]"
          },
          "metadata": {
            "needs_background": "light"
          }
        }
      ]
    },
    {
      "cell_type": "code",
      "source": [
        "import matplotlib.pyplot as plt\n",
        "\n",
        "train_scores = []\n",
        "test_scores = []\n",
        "\n",
        "estimators2 = [\n",
        "  ('bag', bag_regr),\n",
        "  ('adab', adaregr),\n",
        "]\n",
        "\n",
        "for i in range(10):\n",
        "  dtr7 = DecisionTreeRegressor(max_depth=i+1)\n",
        "  sregr2 = StackingRegressor(estimators2, final_estimator=dtr7)\n",
        "  sregr2.fit(X_train, Y_train)\n",
        "  y_pred = sregr2.predict(X_test)\n",
        "  y_train_pred = sregr2.predict(X_train)\n",
        "  r2 = r2_score(Y_test, y_pred)\n",
        "  r2_train = r2_score(Y_train, y_train_pred)\n",
        "  train_scores.append(r2_train)\n",
        "  test_scores.append(r2)"
      ],
      "metadata": {
        "id": "ISvyigXQ3Omf"
      },
      "id": "ISvyigXQ3Omf",
      "execution_count": 79,
      "outputs": []
    },
    {
      "cell_type": "code",
      "source": [
        "plt.plot(range(1, 11), train_scores, label='Stacking Training R2')\n",
        "plt.plot(range(1, 11), test_scores, label='Stacking Testing R2')\n",
        "plt.xlabel('Generalized DTR Max Depth')\n",
        "plt.ylabel('R2 Score')\n",
        "plt.legend()\n",
        "plt.xticks(range(1, 11, 1))\n",
        "plt.xlim(1, 10)  # Set y-axis limits\n",
        "plt.ylim(0.85, 0.92)  # Set y-axis limits\n",
        "plt.show()"
      ],
      "metadata": {
        "colab": {
          "base_uri": "https://localhost:8080/",
          "height": 283
        },
        "id": "HRhWfI3C3hXO",
        "outputId": "a0d1bd0d-c73b-4c47-c672-8233fd8f127c"
      },
      "id": "HRhWfI3C3hXO",
      "execution_count": 82,
      "outputs": [
        {
          "output_type": "display_data",
          "data": {
            "text/plain": [
              "<Figure size 432x288 with 1 Axes>"
            ],
            "image/png": "[encoded data removed]"
          },
          "metadata": {
            "needs_background": "light"
          }
        }
      ]
    }
  ],
  "metadata": {
    "kernelspec": {
      "display_name": "Python 3 (ipykernel)",
      "language": "python",
      "name": "python3"
    },
    "language_info": {
      "codemirror_mode": {
        "name": "ipython",
        "version": 3
      },
      "file_extension": ".py",
      "mimetype": "text/x-python",
      "name": "python",
      "nbconvert_exporter": "python",
      "pygments_lexer": "ipython3",
      "version": "3.9.7"
    },
    "colab": {
      "provenance": [],
      "include_colab_link": true
    }
  },
  "nbformat": 4,
  "nbformat_minor": 5
}